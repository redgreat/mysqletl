{
 "cells": [
  {
   "cell_type": "code",
   "execution_count": 12,
   "metadata": {
    "collapsed": true,
    "pycharm": {
     "name": "#%%\n"
    }
   },
   "outputs": [
    {
     "name": "stdout",
     "output_type": "stream",
     "text": [
      "INSERT INTO `df_sqlinfo` (`Id`,`DataEntityId`,`FormId`,`SqlKey`,`Content`,`CreatedById`,`CreatedAt`,`UpdatedById`,`UpdatedAt`,`DeletedById`,`DeletedAt`,`Deleted`) VALUES ('SI0000000104',NULL,'FI0000000102','Insert','[{\\\"Sql\\\":\\\"Insert Into test_dynamiclocal ( Id,`TestDynamicCode`,`TestDynamicName`,`TestTime`) Values (@[Id],@[TestDynamicCode],@[TestDynamicName],@[TestTime] );\\\",\\\"DatabaseName\\\":\\\"Default\\\",\\\"DataEntityCode\\\":\\\"test_dynamiclocal\\\"},{\\\"Sql\\\":\\\"Insert Into tb_workcarinfo ( Id,`VinNumber`) Values (@[Id],@[VinNumber] );\\\",\\\"DatabaseName\\\":\\\"\\\",\\\"DataEntityCode\\\":\\\"tb_workcarinfo\\\"}]','DynamicFormTest','2021-06-28 09:45:32',NULL,NULL,NULL,NULL,0),('SI0000000105',NULL,'FI0000000102','Detail','[{\\\"Sql\\\":\\\" Select  `Id`,  `TestDynamicCode`,  `TestDynamicName`,  `TestTime`  From test_dynamiclocal Where Id In @[Id];\\\",\\\"DatabaseName\\\":\\\"Default\\\",\\\"DataEntityCode\\\":\\\"test_dynamiclocal\\\"},{\\\"Sql\\\":\\\" Select  `Id`,  `VinNumber`  From tb_workcarinfo Where Id In @[Id];\\\",\\\"DatabaseName\\\":\\\"\\\",\\\"DataEntityCode\\\":\\\"tb_workcarinfo\\\"}]','DynamicFormTest','2021-06-28 09:45:32',NULL,NULL,NULL,NULL,0),('SI0000000106',NULL,'FI0000000102','Update','[{\\\"Sql\\\":\\\"Update test_dynamiclocal Set `TestDynamicCode` = @[TestDynamicCode],`TestDynamicName` = @[TestDynamicName],`TestTime` = @[TestTime] Where Id = @[Id]; Insert Into test_dynamiclocal ( Id,`TestDynamicCode`,`TestDynamicName`,`TestTime`) SELECT @[Id],@[TestDynamicCode],@[TestDynamicName],@[TestTime] FROM ( SELECT @[Id] AS Id ) a LEFT JOIN test_dynamiclocal b ON a.Id = b.Id  WHERE b.id IS NULL  LIMIT 1 ;\\\",\\\"DatabaseName\\\":\\\"Default\\\",\\\"DataEntityCode\\\":\\\"test_dynamiclocal\\\"},{\\\"Sql\\\":\\\"Update tb_workcarinfo Set `VinNumber` = @[VinNumber] Where Id = @[Id]; Insert Into tb_workcarinfo ( Id,`VinNumber`) SELECT @[Id],@[VinNumber] FROM ( SELECT @[Id] AS Id ) a LEFT JOIN tb_workcarinfo b ON a.Id = b.Id  WHERE b.id IS NULL  LIMIT 1 ;\\\",\\\"DatabaseName\\\":\\\"\\\",\\\"DataEntityCode\\\":\\\"tb_workcarinfo\\\"}]','DynamicFormTest','2021-06-28 09:45:32',NULL,NULL,NULL,NULL,0),('SI0000000107',NULL,'FI0000000104','Insert','[]','DynamicFormTest','2021-08-25 09:59:59',NULL,NULL,NULL,NULL,0),('SI0000000108',NULL,'FI0000000104','Detail','[]','DynamicFormTest','2021-08-25 09:59:59',NULL,NULL,NULL,NULL,0),('SI0000000109',NULL,'FI0000000104','Update','[]','DynamicFormTest','2021-08-25 09:59:59',NULL,NULL,NULL,NULL,0),('SI0000000122',NULL,'FI0000000117','Insert','[{\\\"Sql\\\":\\\"Insert Into tb_workorderinfo ( Id,`AppCode`,`Remark`) Values (@[Id],@[AppCode],@[Remark] );\\\",\\\"DatabaseName\\\":\\\"Default\\\",\\\"DataEntityCode\\\":\\\"tb_workorderinfo\\\"},{\\\"Sql\\\":\\\"Insert Into tb_workordertest ( id,`name`) Values (@[Id],@[name] );\\\",\\\"DatabaseName\\\":\\\"Default\\\",\\\"DataEntityCode\\\":\\\"tb_workordertest\\\"}]','DynamicFormTest','2022-02-10 15:50:21',NULL,NULL,NULL,NULL,0),('SI0000000123',NULL,'FI0000000117','Detail','[{\\\"Sql\\\":\\\" Select  `Id`,  `AppCode`,  `Remark`  From tb_workorderinfo Where Id In @[Id];\\\",\\\"DatabaseName\\\":\\\"Default\\\",\\\"DataEntityCode\\\":\\\"tb_workorderinfo\\\"},{\\\"Sql\\\":\\\" Select  `Id`,  `name`  From tb_workordertest Where id In @[Id];\\\",\\\"DatabaseName\\\":\\\"Default\\\",\\\"DataEntityCode\\\":\\\"tb_workordertest\\\"}]','DynamicFormTest','2022-02-10 15:50:21',NULL,NULL,NULL,NULL,0),('SI0000000124',NULL,'FI0000000117','Update','[{\\\"Sql\\\":\\\"Update tb_workorderinfo Set `AppCode` = @[AppCode],`Remark` = @[Remark] Where Id = @[Id]; Insert Into tb_workorderinfo ( Id,`AppCode`,`Remark`) SELECT @[Id],@[AppCode],@[Remark] FROM ( SELECT @[Id] AS Id ) a LEFT JOIN tb_workorderinfo b ON a.Id = b.Id  WHERE b.id IS NULL  LIMIT 1 ;\\\",\\\"DatabaseName\\\":\\\"Default\\\",\\\"DataEntityCode\\\":\\\"tb_workorderinfo\\\"},{\\\"Sql\\\":\\\"Update tb_workordertest Set `name` = @[name] Where id = @[Id]; Insert Into tb_workordertest ( id,`name`) SELECT @[Id],@[name] FROM ( SELECT @[Id] AS id ) a LEFT JOIN tb_workordertest b ON a.id = b.id  WHERE b.id IS NULL  LIMIT 1 ;\\\",\\\"DatabaseName\\\":\\\"Default\\\",\\\"DataEntityCode\\\":\\\"tb_workordertest\\\"}]','DynamicFormTest','2022-02-10 15:50:21',NULL,NULL,NULL,NULL,0),('SI0000000170',NULL,'FI0000000138','Insert','[{\\\"Sql\\\":\\\"Insert Into tb_workbussinessjsoninfo ( DynamicId,`BussinessJson`) Values (@[Id],@[BussinessJson|TextBox1,Radio1,DropDown1,MultiTextBox1] );\\\",\\\"DatabaseName\\\":\\\"Default\\\",\\\"DataEntityCode\\\":\\\"tb_workbussinessjsoninfo\\\"}]','DynamicFormTest','2022-06-02 09:44:02',NULL,NULL,NULL,NULL,0),('SI0000000171',NULL,'FI0000000138','Detail','[{\\\"Sql\\\":\\\" Select  `Id`,`BussinessJson`->>\\'$.\\\\\\\"TextBox1\\\\\\\"\\' as `BussinessJson.TextBox1`,`BussinessJson`->>\\'$.\\\\\\\"Radio1\\\\\\\"\\' as `BussinessJson.Radio1`,`BussinessJson`->>\\'$.\\\\\\\"DropDown1\\\\\\\"\\' as `BussinessJson.DropDown1`,`BussinessJson`->>\\'$.\\\\\\\"MultiTextBox1\\\\\\\"\\' as `BussinessJson.MultiTextBox1`  From tb_workbussinessjsoninfo Where DynamicId In @[Id];\\\",\\\"DatabaseName\\\":\\\"Default\\\",\\\"DataEntityCode\\\":\\\"tb_workbussinessjsoninfo\\\"}]','DynamicFormTest','2022-06-02 09:44:02',NULL,NULL,NULL,NULL,0),('SI0000000172',NULL,'FI0000000138','Update','[{\\\"Sql\\\":\\\"Update tb_workbussinessjsoninfo Set `BussinessJson` = COALESCE(json_merge_patch(`BussinessJson`,@[BussinessJson|TextBox1,Radio1,DropDown1,MultiTextBox1]),@[BussinessJson|TextBox1,Radio1,DropDown1,MultiTextBox1]) Where DynamicId = @[Id]; Insert Into tb_workbussinessjsoninfo ( DynamicId,`BussinessJson`) SELECT @[Id],@[BussinessJson|TextBox1,Radio1,DropDown1,MultiTextBox1] FROM ( SELECT @[Id] AS DynamicId ) a LEFT JOIN tb_workbussinessjsoninfo b ON a.DynamicId = b.DynamicId  WHERE b.id IS NULL  LIMIT 1 ;\\\",\\\"DatabaseName\\\":\\\"Default\\\",\\\"DataEntityCode\\\":\\\"tb_workbussinessjsoninfo\\\"}]','DynamicFormTest','2022-06-02 09:44:02',NULL,NULL,NULL,NULL,0),('SI0000000206',NULL,'FI0000000157','Insert','[{\\\"Sql\\\":\\\"Insert Into tb_workbussinessjsoninfo ( DynamicId,`BussinessJson`) Values (@[Id],@[BussinessJson|TextBox1,TextBox2] );\\\",\\\"DatabaseName\\\":\\\"Default\\\",\\\"DataEntityCode\\\":\\\"tb_workbussinessjsoninfo\\\"}]','DynamicFormTest','2022-06-07 10:05:24',NULL,NULL,NULL,NULL,0),('SI0000000207',NULL,'FI0000000157','Detail','[{\\\"Sql\\\":\\\" Select  `Id`,`BussinessJson`->>\\'$.\\\\\\\"TextBox1\\\\\\\"\\' as `BussinessJson.TextBox1`,`BussinessJson`->>\\'$.\\\\\\\"TextBox2\\\\\\\"\\' as `BussinessJson.TextBox2`  From tb_workbussinessjsoninfo Where DynamicId In @[Id];\\\",\\\"DatabaseName\\\":\\\"Default\\\",\\\"DataEntityCode\\\":\\\"tb_workbussinessjsoninfo\\\"}]','DynamicFormTest','2022-06-07 10:05:24',NULL,NULL,NULL,NULL,0),('SI0000000208',NULL,'FI0000000157','Update','[{\\\"Sql\\\":\\\"Update tb_workbussinessjsoninfo Set `BussinessJson` = COALESCE(json_merge_patch(`BussinessJson`,@[BussinessJson|TextBox1,TextBox2]),@[BussinessJson|TextBox1,TextBox2]) Where DynamicId = @[Id]; Insert Into tb_workbussinessjsoninfo ( DynamicId,`BussinessJson`) SELECT @[Id],@[BussinessJson|TextBox1,TextBox2] FROM ( SELECT @[Id] AS DynamicId ) a LEFT JOIN tb_workbussinessjsoninfo b ON a.DynamicId = b.DynamicId  WHERE b.id IS NULL  LIMIT 1 ;\\\",\\\"DatabaseName\\\":\\\"Default\\\",\\\"DataEntityCode\\\":\\\"tb_workbussinessjsoninfo\\\"}]','DynamicFormTest','2022-06-07 10:05:24',NULL,NULL,NULL,NULL,0),('SI0000000221',NULL,'FI0000000151','Insert','[{\\\"Sql\\\":\\\"Insert Into tb_workbussinessjsoninfo ( DynamicId,`BussinessJson`) Values (@[Id],@[BussinessJson|setOff] );\\\",\\\"DatabaseName\\\":\\\"Default\\\",\\\"DataEntityCode\\\":\\\"tb_workbussinessjsoninfo\\\"}]','DynamicFormTest','2022-06-07 16:06:33',NULL,NULL,NULL,NULL,0),('SI0000000222',NULL,'FI0000000151','Detail','[{\\\"Sql\\\":\\\" Select  `DynamicId` as Id,`BussinessJson`->>\\'$.\\\\\\\"setOff\\\\\\\"\\' as `BussinessJson.setOff`  From tb_workbussinessjsoninfo Where DynamicId In @[Id];\\\",\\\"DatabaseName\\\":\\\"Default\\\",\\\"DataEntityCode\\\":\\\"tb_workbussinessjsoninfo\\\"}]','DynamicFormTest','2022-06-07 16:06:33',NULL,NULL,NULL,NULL,0),('SI0000000223',NULL,'FI0000000151','Update','[{\\\"Sql\\\":\\\"Update tb_workbussinessjsoninfo Set `BussinessJson` = COALESCE(json_merge_patch(`BussinessJson`,@[BussinessJson|setOff]),@[BussinessJson|setOff]) Where DynamicId = @[Id]; Insert Into tb_workbussinessjsoninfo ( DynamicId,`BussinessJson`) SELECT @[Id],@[BussinessJson|setOff] FROM ( SELECT @[Id] AS DynamicId ) a LEFT JOIN tb_workbussinessjsoninfo b ON a.DynamicId = b.DynamicId  WHERE b.id IS NULL  LIMIT 1 ;\\\",\\\"DatabaseName\\\":\\\"Default\\\",\\\"DataEntityCode\\\":\\\"tb_workbussinessjsoninfo\\\"}]','DynamicFormTest','2022-06-07 16:06:33',NULL,NULL,NULL,NULL,0),('SI0000000224',NULL,'FI0000000162','Insert','[{\\\"Sql\\\":\\\"Insert Into tb_workbussinessjsoninfo ( DynamicId,`BussinessJson`) Values (@[Id],@[BussinessJson|Radio1] );\\\",\\\"DatabaseName\\\":\\\"Default\\\",\\\"DataEntityCode\\\":\\\"tb_workbussinessjsoninfo\\\"}]','DynamicFormTest','2022-06-07 17:37:59',NULL,NULL,NULL,NULL,0),('SI0000000225',NULL,'FI0000000162','Detail','[{\\\"Sql\\\":\\\" Select  `DynamicId` as Id,`BussinessJson`->>\\'$.\\\\\\\"Radio1\\\\\\\"\\' as `BussinessJson.Radio1`  From tb_workbussinessjsoninfo Where DynamicId In @[Id];\\\",\\\"DatabaseName\\\":\\\"Default\\\",\\\"DataEntityCode\\\":\\\"tb_workbussinessjsoninfo\\\"}]','DynamicFormTest','2022-06-07 17:37:59',NULL,NULL,NULL,NULL,0),('SI0000000226',NULL,'FI0000000162','Update','[{\\\"Sql\\\":\\\"Update tb_workbussinessjsoninfo Set `BussinessJson` = COALESCE(json_merge_patch(`BussinessJson`,@[BussinessJson|Radio1]),@[BussinessJson|Radio1]) Where DynamicId = @[Id]; Insert Into tb_workbussinessjsoninfo ( DynamicId,`BussinessJson`) SELECT @[Id],@[BussinessJson|Radio1] FROM ( SELECT @[Id] AS DynamicId ) a LEFT JOIN tb_workbussinessjsoninfo b ON a.DynamicId = b.DynamicId  WHERE b.id IS NULL  LIMIT 1 ;\\\",\\\"DatabaseName\\\":\\\"Default\\\",\\\"DataEntityCode\\\":\\\"tb_workbussinessjsoninfo\\\"}]','DynamicFormTest','2022-06-07 17:37:59',NULL,NULL,NULL,NULL,0),('SI0000000239',NULL,'FI0000000168','Insert','[{\\\"Sql\\\":\\\"Insert Into tb_workbussinessjsoninfo ( DynamicId,`BussinessJson`) Values (@[Id],@[BussinessJson|takeOrder] );\\\",\\\"DatabaseName\\\":\\\"Default\\\",\\\"DataEntityCode\\\":\\\"tb_workbussinessjsoninfo\\\"}]','DynamicFormTest','2022-06-08 10:44:26',NULL,NULL,NULL,NULL,0),('SI0000000240',NULL,'FI0000000168','Detail','[{\\\"Sql\\\":\\\" Select  `DynamicId` as Id,`BussinessJson`->>\\'$.\\\\\\\"takeOrder\\\\\\\"\\' as `BussinessJson.takeOrder`  From tb_workbussinessjsoninfo Where DynamicId In @[Id];\\\",\\\"DatabaseName\\\":\\\"Default\\\",\\\"DataEntityCode\\\":\\\"tb_workbussinessjsoninfo\\\"}]','DynamicFormTest','2022-06-08 10:44:26',NULL,NULL,NULL,NULL,0),('SI0000000241',NULL,'FI0000000168','Update','[{\\\"Sql\\\":\\\"Update tb_workbussinessjsoninfo Set `BussinessJson` = COALESCE(json_merge_patch(`BussinessJson`,@[BussinessJson|takeOrder]),@[BussinessJson|takeOrder]) Where DynamicId = @[Id]; Insert Into tb_workbussinessjsoninfo ( DynamicId,`BussinessJson`) SELECT @[Id],@[BussinessJson|takeOrder] FROM ( SELECT @[Id] AS DynamicId ) a LEFT JOIN tb_workbussinessjsoninfo b ON a.DynamicId = b.DynamicId  WHERE b.id IS NULL  LIMIT 1 ;\\\",\\\"DatabaseName\\\":\\\"Default\\\",\\\"DataEntityCode\\\":\\\"tb_workbussinessjsoninfo\\\"}]','DynamicFormTest','2022-06-08 10:44:26',NULL,NULL,NULL,NULL,0),('SI0000000245',NULL,'FI0000000171','Insert','[{\\\"Sql\\\":\\\"Insert Into tb_workbussinessjsoninfo ( DynamicId,`BussinessJson`) Values (@[Id],@[BussinessJson|Radio1,MultiTextBox1,MultiCheckBox1,DropDown1,DateTime1,TextBox1] );\\\",\\\"DatabaseName\\\":\\\"Default\\\",\\\"DataEntityCode\\\":\\\"tb_workbussinessjsoninfo\\\"}]','DynamicFormTest','2022-06-08 14:49:30',NULL,NULL,NULL,NULL,0),('SI0000000246',NULL,'FI0000000171','Detail','[{\\\"Sql\\\":\\\" Select  `DynamicId` as Id,`BussinessJson`->>\\'$.\\\\\\\"Radio1\\\\\\\"\\' as `BussinessJson.Radio1`,`BussinessJson`->>\\'$.\\\\\\\"MultiTextBox1\\\\\\\"\\' as `BussinessJson.MultiTextBox1`,`BussinessJson`->>\\'$.\\\\\\\"MultiCheckBox1\\\\\\\"\\' as `BussinessJson.MultiCheckBox1`,`BussinessJson`->>\\'$.\\\\\\\"DropDown1\\\\\\\"\\' as `BussinessJson.DropDown1`,`BussinessJson`->>\\'$.\\\\\\\"DateTime1\\\\\\\"\\' as `BussinessJson.DateTime1`,`BussinessJson`->>\\'$.\\\\\\\"TextBox1\\\\\\\"\\' as `BussinessJson.TextBox1`  From tb_workbussinessjsoninfo Where DynamicId In @[Id];\\\",\\\"DatabaseName\\\":\\\"Default\\\",\\\"DataEntityCode\\\":\\\"tb_workbussinessjsoninfo\\\"}]','DynamicFormTest','2022-06-08 14:49:30',NULL,NULL,NULL,NULL,0),('SI0000000247',NULL,'FI0000000171','Update','[{\\\"Sql\\\":\\\"Update tb_workbussinessjsoninfo Set `BussinessJson` = COALESCE(json_merge_patch(`BussinessJson`,@[BussinessJson|Radio1,MultiTextBox1,MultiCheckBox1,DropDown1,DateTime1,TextBox1]),@[BussinessJson|Radio1,MultiTextBox1,MultiCheckBox1,DropDown1,DateTime1,TextBox1]) Where DynamicId = @[Id]; Insert Into tb_workbussinessjsoninfo ( DynamicId,`BussinessJson`) SELECT @[Id],@[BussinessJson|Radio1,MultiTextBox1,MultiCheckBox1,DropDown1,DateTime1,TextBox1] FROM ( SELECT @[Id] AS DynamicId ) a LEFT JOIN tb_workbussinessjsoninfo b ON a.DynamicId = b.DynamicId  WHERE b.id IS NULL  LIMIT 1 ;\\\",\\\"DatabaseName\\\":\\\"Default\\\",\\\"DataEntityCode\\\":\\\"tb_workbussinessjsoninfo\\\"}]','DynamicFormTest','2022-06-08 14:49:30',NULL,NULL,NULL,NULL,0),('SI0000000359',NULL,'FI0000000210','Insert','[{\\\"Sql\\\":\\\"Insert Into tb_workbussinessjsoninfo ( DynamicId,`BussinessJson`) Values (@[Id],@[BussinessJson|abc.aaa,abc.bbb,abc.ccc] );\\\",\\\"DatabaseName\\\":\\\"Default\\\",\\\"DataEntityCode\\\":\\\"tb_workbussinessjsoninfo\\\"}]','DynamicFormTest','2022-06-20 13:56:27',NULL,NULL,NULL,NULL,0),('SI0000000360',NULL,'FI0000000210','Detail','[{\\\"Sql\\\":\\\" Select  `DynamicId` as Id,`BussinessJson`->>\\'$.\\\\\\\"abc\\\\\\\".\\\\\\\"aaa\\\\\\\"\\' as `BussinessJson.abc.aaa`,`BussinessJson`->>\\'$.\\\\\\\"abc\\\\\\\".\\\\\\\"bbb\\\\\\\"\\' as `BussinessJson.abc.bbb`,`BussinessJson`->>\\'$.\\\\\\\"abc\\\\\\\".\\\\\\\"ccc\\\\\\\"\\' as `BussinessJson.abc.ccc`  From tb_workbussinessjsoninfo Where DynamicId In @[Id];\\\",\\\"DatabaseName\\\":\\\"Default\\\",\\\"DataEntityCode\\\":\\\"tb_workbussinessjsoninfo\\\"}]','DynamicFormTest','2022-06-20 13:56:27',NULL,NULL,NULL,NULL,0),('SI0000000361',NULL,'FI0000000210','Update','[{\\\"Sql\\\":\\\"Update tb_workbussinessjsoninfo Set `BussinessJson` = COALESCE(json_merge_patch(`BussinessJson`,@[BussinessJson|abc.aaa,abc.bbb,abc.ccc]),@[BussinessJson|abc.aaa,abc.bbb,abc.ccc]) Where DynamicId = @[Id]; Insert Into tb_workbussinessjsoninfo ( DynamicId,`BussinessJson`) SELECT @[Id],@[BussinessJson|abc.aaa,abc.bbb,abc.ccc] FROM ( SELECT @[Id] AS DynamicId ) a LEFT JOIN tb_workbussinessjsoninfo b ON a.DynamicId = b.DynamicId  WHERE b.id IS NULL  LIMIT 1 ;\\\",\\\"DatabaseName\\\":\\\"Default\\\",\\\"DataEntityCode\\\":\\\"tb_workbussinessjsoninfo\\\"}]','DynamicFormTest','2022-06-20 13:56:27',NULL,NULL,NULL,NULL,0),('SI0000000392',NULL,'FI0000000220','Insert','[]','DynamicFormTest','2022-06-27 14:35:52',NULL,NULL,NULL,NULL,0),('SI0000000393',NULL,'FI0000000220','Detail','[]','DynamicFormTest','2022-06-27 14:35:52',NULL,NULL,NULL,NULL,0),('SI0000000394',NULL,'FI0000000220','Update','[]','DynamicFormTest','2022-06-27 14:35:52',NULL,NULL,NULL,NULL,0);\n"
     ]
    }
   ],
   "source": [
    "import pymysql\n",
    "import time\n",
    "\n",
    "in_src_dbname = 'serviceordercenter'\n",
    "tb_name = 'df_sqlinfo'\n",
    "in_betchnum = 200\n",
    "\n",
    "\"\"\"定义连接地址\"\"\"\n",
    "try:\n",
    "    db_src = pymysql.connect(host='',\n",
    "                             database='',\n",
    "                             user='',\n",
    "                             password='',\n",
    "                             charset='utf8')\n",
    "\n",
    "except Exception as db_error:\n",
    "    print (\"{}:源库连接失败：错误原因：{}\".format(time.strftime('%Y-%m-%d %H:%M:%S',time.localtime(time.time())),db_error))\n",
    "try:\n",
    "    db_tar = pymysql.connect(host='',\n",
    "                             #port=4000,\n",
    "                             database='',\n",
    "                             user='',\n",
    "                             password='',\n",
    "                             charset='utf8')\n",
    "except Exception as db_error:\n",
    "    print (\"{}:目标库连接失败：错误原因：{}\".format(time.strftime('%Y-%m-%d %H:%M:%S',time.localtime(time.time())),db_error))\n",
    "\n",
    "\"\"\"开启游标(防止数据迁移占用连接时间太久，每张表单独开一次)\"\"\"\n",
    "cur_src_dic = db_src.cursor(cursor=pymysql.cursors.DictCursor)\n",
    "cur_tar = db_tar.cursor()\n",
    "\n",
    "\"\"\"获取表所有列\"\"\"\n",
    "sql_column_table = \"\"\"SELECT COLUMN_NAME AS src_column_name,COLUMN_TYPE AS src_column_type\n",
    "        FROM INFORMATION_SCHEMA.COLUMNS\n",
    "        WHERE TABLE_SCHEMA = \\'{}\\'\n",
    "          AND TABLE_NAME = \\'{}\\'\n",
    "        ORDER BY ORDINAL_POSITION;\"\"\".format(in_src_dbname,tb_name)\n",
    "\n",
    "cur_src_dic.execute(sql_column_table)\n",
    "src_columns = cur_src_dic.fetchall()\n",
    "src_columnsss = ''\n",
    "for src_column in src_columns:\n",
    "    src_columnss = src_column.get('src_column_name')\n",
    "    src_columnsss += '`' + src_columnss + '`,'\n",
    "src_column_concat = src_columnsss.strip(',')\n",
    "\n",
    "i = 0\n",
    "sql_values_srcdata = \"\"\"SELECT {}\n",
    "            FROM `{}`\n",
    "            LIMIT {},{};\"\"\".format(src_column_concat,tb_name,i,in_betchnum)\n",
    "i = i + in_betchnum\n",
    "sql_values_tardata = \"\"\"INSERT INTO `{}` ({}) VALUES \"\"\".format(tb_name,src_column_concat)\n",
    "\n",
    "cur_src_dic.execute(sql_values_srcdata)\n",
    "dic_values_srcdata = cur_src_dic.fetchall()\n",
    "if dic_values_srcdata:\n",
    "    row_strc = ''\n",
    "    for row_data in dic_values_srcdata:\n",
    "        row_strs = ''\n",
    "        for columnnt in src_columns:\n",
    "            cv = row_data.get(columnnt.get('src_column_name'))\n",
    "            ct = columnnt.get('src_column_type')\n",
    "            if ct.count('char') > 0:\n",
    "                if cv is not None:\n",
    "                    cv = cv.replace('\\\\','\\\\\\\\').replace('\\'','\\\\\\'').replace('\\\"','\\\\\\\"')\n",
    "                row_str = '\\'' + str(cv) + '\\''\n",
    "            elif ct.count('text') > 0:\n",
    "                if cv is not None:\n",
    "                    cv = cv.replace('\\\\','\\\\\\\\').replace('\\'','\\\\\\'').replace('\\\"','\\\\\\\"')\n",
    "                row_str = '\\'' + str(cv) + '\\''\n",
    "            elif ct.count('time') > 0 or ct.count('date') > 0:\n",
    "                row_str = '\\'' + str(cv) + '\\''\n",
    "            elif ct.count('tinyint(1)') > 0:\n",
    "                row_str = str(int(cv))\n",
    "            elif ct.count('bit') > 0:\n",
    "                row_str = int.from_bytes(cv,'little')\n",
    "            elif ct.count('json') > 0 and cv != '' and cv is not None:\n",
    "                row_str = str('\\'' + str(cv.replace('\\\\','\\\\\\\\').replace('\\'','\\\\\\'').replace('\\\"','\\\\\\\"')) + '\\'')\n",
    "            else:\n",
    "                row_str = str(cv)\n",
    "            row_strs = row_strs + str(row_str) + ','\n",
    "        row_strc = row_strc + '(' + row_strs.strip(',') + '),'\n",
    "    sql_values_tardata = sql_values_tardata + str(row_strc.replace('None', 'NULL').replace('\\'NULL\\'', 'NULL').strip(',')) + \";\"\n",
    "    print (sql_values_tardata)\n",
    "\"\"\"关闭游标\"\"\"\n",
    "cur_src_dic.close()\n",
    "cur_tar.close()\n",
    "db_src.close()\n",
    "db_tar.close()"
   ]
  },
  {
   "cell_type": "code",
   "execution_count": 24,
   "outputs": [
    {
     "name": "stdout",
     "output_type": "stream",
     "text": [
      "[{'TABLE_NAME': 'service'}]\n"
     ]
    }
   ],
   "source": [
    "a = ([{\"TABLE_NAME\":\"service\"}])\n",
    "print(a)"
   ],
   "metadata": {
    "collapsed": false,
    "pycharm": {
     "name": "#%%\n"
    }
   }
  },
  {
   "cell_type": "code",
   "execution_count": 26,
   "outputs": [
    {
     "name": "stdout",
     "output_type": "stream",
     "text": [
      "service\n"
     ]
    }
   ],
   "source": [
    "for b in a:\n",
    "    print(b.get('TABLE_NAME'))"
   ],
   "metadata": {
    "collapsed": false,
    "pycharm": {
     "name": "#%%\n"
    }
   }
  },
  {
   "cell_type": "code",
   "execution_count": 28,
   "outputs": [
    {
     "name": "stdout",
     "output_type": "stream",
     "text": [
      "[{'TABLE_NAME': 'service'}]\n"
     ]
    }
   ],
   "source": [
    "a = 'service'\n",
    "b = ([{\"TABLE_NAME\":\"{}\".format(a)}])\n",
    "print (b)"
   ],
   "metadata": {
    "collapsed": false,
    "pycharm": {
     "name": "#%%\n"
    }
   }
  },
  {
   "cell_type": "code",
   "execution_count": 30,
   "outputs": [
    {
     "name": "stdout",
     "output_type": "stream",
     "text": [
      "SHOW CREATE FUNCTION fn_dataversionnumber;\n",
      "CREATE DEFINER=`user_service`@`%` FUNCTION `fn_dataversionnumber`(InDataEntityCode varchar(50),\n",
      "        InDataBaseName varchar(60)) RETURNS varchar(7) CHARSET utf8\n",
      "    SQL SECURITY INVOKER\n",
      "BEGIN\n",
      "    DECLARE InVersionNumber VARCHAR(255);\n",
      "    DECLARE OutVersionNumber VARCHAR(255);\n",
      "\n",
      "    SELECT a.VersionNumber \n",
      "           INTO InVersionNumber    \n",
      "    FROM df_dataentitiesinfo a\n",
      "    INNER JOIN (SELECT MAX(Id)AS Id,\n",
      "                       VersionNumber\n",
      "                FROM df_dataentitiesinfo\n",
      "                WHERE Deleted = 0\n",
      "                GROUP BY DataEntityCode, DatabaseName) b\n",
      "    ON a.Id = b.Id\n",
      "    WHERE a.DataEntityCode = InDataEntityCode\n",
      "    AND a.DatabaseName = InDataBaseName;\n",
      "\n",
      "    #拼接字符串\n",
      "    SELECT concat('V',substring_index(substring_index(InVersionNumber,'.',1),'V',-1)+1,'.0') INTO OutVersionNumber;\n",
      "\n",
      "    IF OutVersionNumber IS NULL OR ''\n",
      "    THEN RETURN 'V1.0';\n",
      "    ELSE RETURN OutVersionNumber;\n",
      "    END IF ;\n",
      "\t\n",
      "END\n",
      "DROP FUNCTION IF EXISTS fn_dataversionnumber;\n",
      "CREATE DEFINER=`user_service`@`%` FUNCTION `fn_dataversionnumber`(InDataEntityCode varchar(50),\n",
      "        InDataBaseName varchar(60)) RETURNS varchar(7) CHARSET utf8\n",
      "    SQL SECURITY INVOKER\n",
      "BEGIN\n",
      "    DECLARE InVersionNumber VARCHAR(255);\n",
      "    DECLARE OutVersionNumber VARCHAR(255);\n",
      "\n",
      "    SELECT a.VersionNumber \n",
      "           INTO InVersionNumber    \n",
      "    FROM df_dataentitiesinfo a\n",
      "    INNER JOIN (SELECT MAX(Id)AS Id,\n",
      "                       VersionNumber\n",
      "                FROM df_dataentitiesinfo\n",
      "                WHERE Deleted = 0\n",
      "                GROUP BY DataEntityCode, DatabaseName) b\n",
      "    ON a.Id = b.Id\n",
      "    WHERE a.DataEntityCode = InDataEntityCode\n",
      "    AND a.DatabaseName = InDataBaseName;\n",
      "\n",
      "    #拼接字符串\n",
      "    SELECT concat('V',substring_index(substring_index(InVersionNumber,'.',1),'V',-1)+1,'.0') INTO OutVersionNumber;\n",
      "\n",
      "    IF OutVersionNumber IS NULL OR ''\n",
      "    THEN RETURN 'V1.0';\n",
      "    ELSE RETURN OutVersionNumber;\n",
      "    END IF ;\n",
      "\t\n",
      "END\n"
     ]
    },
    {
     "ename": "NameError",
     "evalue": "name 'logger' is not defined",
     "output_type": "error",
     "traceback": [
      "\u001B[1;31m---------------------------------------------------------------------------\u001B[0m",
      "\u001B[1;31mProgrammingError\u001B[0m                          Traceback (most recent call last)",
      "Cell \u001B[1;32mIn [30], line 51\u001B[0m\n\u001B[0;32m     50\u001B[0m \u001B[38;5;28;01mtry\u001B[39;00m:\n\u001B[1;32m---> 51\u001B[0m     \u001B[43mcur_tar\u001B[49m\u001B[38;5;241;43m.\u001B[39;49m\u001B[43mexecute\u001B[49m\u001B[43m(\u001B[49m\u001B[43msql_create_function\u001B[49m\u001B[43m)\u001B[49m\n\u001B[0;32m     52\u001B[0m     db_tar\u001B[38;5;241m.\u001B[39mcommit()\n",
      "File \u001B[1;32mD:\\github\\envs\\mysqletl\\lib\\site-packages\\pymysql\\cursors.py:143\u001B[0m, in \u001B[0;36mCursor.execute\u001B[1;34m(self, query, args)\u001B[0m\n\u001B[0;32m    130\u001B[0m \u001B[38;5;124;03m\"\"\"Execute a query\u001B[39;00m\n\u001B[0;32m    131\u001B[0m \n\u001B[0;32m    132\u001B[0m \u001B[38;5;124;03m:param str query: Query to execute.\u001B[39;00m\n\u001B[1;32m   (...)\u001B[0m\n\u001B[0;32m    141\u001B[0m \u001B[38;5;124;03mIf args is a dict, %(name)s can be used as a placeholder in the query.\u001B[39;00m\n\u001B[0;32m    142\u001B[0m \u001B[38;5;124;03m\"\"\"\u001B[39;00m\n\u001B[1;32m--> 143\u001B[0m \u001B[38;5;28;01mwhile\u001B[39;00m \u001B[38;5;28;43mself\u001B[39;49m\u001B[38;5;241;43m.\u001B[39;49m\u001B[43mnextset\u001B[49m\u001B[43m(\u001B[49m\u001B[43m)\u001B[49m:\n\u001B[0;32m    144\u001B[0m     \u001B[38;5;28;01mpass\u001B[39;00m\n",
      "File \u001B[1;32mD:\\github\\envs\\mysqletl\\lib\\site-packages\\pymysql\\cursors.py:96\u001B[0m, in \u001B[0;36mCursor.nextset\u001B[1;34m(self)\u001B[0m\n\u001B[0;32m     95\u001B[0m \u001B[38;5;28;01mdef\u001B[39;00m \u001B[38;5;21mnextset\u001B[39m(\u001B[38;5;28mself\u001B[39m):\n\u001B[1;32m---> 96\u001B[0m     \u001B[38;5;28;01mreturn\u001B[39;00m \u001B[38;5;28;43mself\u001B[39;49m\u001B[38;5;241;43m.\u001B[39;49m\u001B[43m_nextset\u001B[49m\u001B[43m(\u001B[49m\u001B[38;5;28;43;01mFalse\u001B[39;49;00m\u001B[43m)\u001B[49m\n",
      "File \u001B[1;32mD:\\github\\envs\\mysqletl\\lib\\site-packages\\pymysql\\cursors.py:83\u001B[0m, in \u001B[0;36mCursor._nextset\u001B[1;34m(self, unbuffered)\u001B[0m\n\u001B[0;32m     82\u001B[0m \u001B[38;5;124;03m\"\"\"Get the next query set\"\"\"\u001B[39;00m\n\u001B[1;32m---> 83\u001B[0m conn \u001B[38;5;241m=\u001B[39m \u001B[38;5;28;43mself\u001B[39;49m\u001B[38;5;241;43m.\u001B[39;49m\u001B[43m_get_db\u001B[49m\u001B[43m(\u001B[49m\u001B[43m)\u001B[49m\n\u001B[0;32m     84\u001B[0m current_result \u001B[38;5;241m=\u001B[39m \u001B[38;5;28mself\u001B[39m\u001B[38;5;241m.\u001B[39m_result\n",
      "File \u001B[1;32mD:\\github\\envs\\mysqletl\\lib\\site-packages\\pymysql\\cursors.py:65\u001B[0m, in \u001B[0;36mCursor._get_db\u001B[1;34m(self)\u001B[0m\n\u001B[0;32m     64\u001B[0m \u001B[38;5;28;01mif\u001B[39;00m \u001B[38;5;129;01mnot\u001B[39;00m \u001B[38;5;28mself\u001B[39m\u001B[38;5;241m.\u001B[39mconnection:\n\u001B[1;32m---> 65\u001B[0m     \u001B[38;5;28;01mraise\u001B[39;00m err\u001B[38;5;241m.\u001B[39mProgrammingError(\u001B[38;5;124m\"\u001B[39m\u001B[38;5;124mCursor closed\u001B[39m\u001B[38;5;124m\"\u001B[39m)\n\u001B[0;32m     66\u001B[0m \u001B[38;5;28;01mreturn\u001B[39;00m \u001B[38;5;28mself\u001B[39m\u001B[38;5;241m.\u001B[39mconnection\n",
      "\u001B[1;31mProgrammingError\u001B[0m: Cursor closed",
      "\nDuring handling of the above exception, another exception occurred:\n",
      "\u001B[1;31mNameError\u001B[0m                                 Traceback (most recent call last)",
      "Cell \u001B[1;32mIn [30], line 57\u001B[0m\n\u001B[0;32m     55\u001B[0m     \u001B[38;5;28;01mexcept\u001B[39;00m \u001B[38;5;167;01mException\u001B[39;00m \u001B[38;5;28;01mas\u001B[39;00m db_error:\n\u001B[0;32m     56\u001B[0m         db_tar\u001B[38;5;241m.\u001B[39mrollback()\n\u001B[1;32m---> 57\u001B[0m         \u001B[43mlogger\u001B[49m\u001B[38;5;241m.\u001B[39mdebug(\u001B[38;5;124m\"\u001B[39m\u001B[38;5;124m函数\u001B[39m\u001B[38;5;132;01m{}\u001B[39;00m\u001B[38;5;124m创建失败，原因：\u001B[39m\u001B[38;5;132;01m{}\u001B[39;00m\u001B[38;5;124m\"\u001B[39m\u001B[38;5;241m.\u001B[39mformat(fun_name,db_error))\n\u001B[0;32m     58\u001B[0m cur_src_dic\u001B[38;5;241m.\u001B[39mclose()\n",
      "\u001B[1;31mNameError\u001B[0m: name 'logger' is not defined"
     ]
    }
   ],
   "source": [
    "import pymysql\n",
    "import time\n",
    "\n",
    "in_src_dbname = 'serviceordercenter'\n",
    "\n",
    "\"\"\"定义连接地址\"\"\"\n",
    "try:\n",
    "    db_src = pymysql.connect(host='',\n",
    "                             database='',\n",
    "                             user='',\n",
    "                             password='',\n",
    "                             charset='utf8')\n",
    "\n",
    "except Exception as db_error:\n",
    "    print (\"{}:源库连接失败：错误原因：{}\".format(time.strftime('%Y-%m-%d %H:%M:%S',time.localtime(time.time())),db_error))\n",
    "try:\n",
    "    db_tar = pymysql.connect(host='',\n",
    "                             #port=4000,\n",
    "                             database='',\n",
    "                             user='',\n",
    "                             password='',\n",
    "                             charset='utf8')\n",
    "except Exception as db_error:\n",
    "    print (\"{}:目标库连接失败：错误原因：{}\".format(time.strftime('%Y-%m-%d %H:%M:%S',time.localtime(time.time())),db_error))\n",
    "\n",
    "\"\"\"函数/过程/视图的迁移\"\"\"\n",
    "\"\"\"迁移函数\"\"\"\n",
    "cur_src_dic = db_src.cursor(cursor=pymysql.cursors.DictCursor)\n",
    "\"\"\"获取所有函数\"\"\"\n",
    "sql_get_function = \"\"\"SELECT ROUTINE_NAME\n",
    "           FROM INFORMATION_SCHEMA.ROUTINES\n",
    "           WHERE ROUTINE_SCHEMA=\\'{}\\'\n",
    "           AND  ROUTINE_TYPE = \\'FUNCTION\\';\"\"\".format(in_src_dbname)\n",
    "\n",
    "cur_src_dic.execute(sql_get_function)\n",
    "src_fun = cur_src_dic.fetchall()\n",
    "\n",
    "for fun_name_dic in src_fun:\n",
    "    fun_name = fun_name_dic.get('ROUTINE_NAME')\n",
    "    \"\"\"函数创建语句\"\"\"\n",
    "    sql_show_function = \"\"\"SHOW CREATE FUNCTION {};\"\"\".format(fun_name)\n",
    "    print(sql_show_function)\n",
    "\n",
    "    cur_src_dic.execute(sql_show_function)\n",
    "    fun_desc = cur_src_dic.fetchone().get('Create Function')\n",
    "    print(fun_desc)\n",
    "\n",
    "    sql_create_function = \"\"\"DROP FUNCTION IF EXISTS {};\\n{}\"\"\".format(fun_name,fun_desc)\n",
    "    print(sql_create_function)\n",
    "    try:\n",
    "        cur_tar.execute(sql_create_function)\n",
    "        db_tar.commit()\n",
    "        print (\"{}:函数{}创建成功...\".format(time.strftime('%Y-%m-%d %H:%M:%S',time.localtime(time.time())),fun_name))\n",
    "        logger.debug(\"函数{}创建成功...\".format(fun_name))\n",
    "    except Exception as db_error:\n",
    "        db_tar.rollback()\n",
    "        logger.debug(\"函数{}创建失败，原因：{}\".format(fun_name,db_error))\n",
    "cur_src_dic.close()"
   ],
   "metadata": {
    "collapsed": false,
    "pycharm": {
     "name": "#%%\n"
    }
   }
  },
  {
   "cell_type": "code",
   "execution_count": 34,
   "outputs": [
    {
     "name": "stdout",
     "output_type": "stream",
     "text": [
      "This is a \u001B[1;31m test \u001B[0m!\n"
     ]
    }
   ],
   "source": [
    "print('This is a \\033[1;31m test \\033[0m!')"
   ],
   "metadata": {
    "collapsed": false,
    "pycharm": {
     "name": "#%%\n"
    }
   }
  },
  {
   "cell_type": "code",
   "execution_count": 32,
   "outputs": [
    {
     "name": "stdout",
     "output_type": "stream",
     "text": [
      "This is a \u001B[1;32;43m test \u001B[0m!\n"
     ]
    }
   ],
   "source": [
    "print('This is a \\033[1;32;43m test \\033[0m!')"
   ],
   "metadata": {
    "collapsed": false,
    "pycharm": {
     "name": "#%%\n"
    }
   }
  },
  {
   "cell_type": "code",
   "execution_count": 33,
   "outputs": [
    {
     "name": "stdout",
     "output_type": "stream",
     "text": [
      "\u001B[1;33;44mThis is a test !\u001B[0m\n"
     ]
    }
   ],
   "source": [
    "print('\\033[1;33;44mThis is a test !\\033[0m')"
   ],
   "metadata": {
    "collapsed": false,
    "pycharm": {
     "name": "#%%\n"
    }
   }
  },
  {
   "cell_type": "code",
   "execution_count": 2,
   "outputs": [
    {
     "name": "stdout",
     "output_type": "stream",
     "text": [
      "1\n"
     ]
    }
   ],
   "source": [
    "a = 1\n",
    "b = 0\n",
    "if a in (1,2,3):\n",
    "    b = b + 1\n",
    "print (b)"
   ],
   "metadata": {
    "collapsed": false,
    "pycharm": {
     "name": "#%%\n"
    }
   }
  },
  {
   "cell_type": "code",
   "execution_count": 24,
   "outputs": [
    {
     "name": "stdout",
     "output_type": "stream",
     "text": [
      "None\n",
      "2\n"
     ]
    }
   ],
   "source": [
    "import pymysql\n",
    "db_src = pymysql.connect(host='',\n",
    "                         database='',\n",
    "                         user='',\n",
    "                         password='',\n",
    "                         charset='utf8')\n",
    "cur_src_dic = db_src.cursor(cursor=pymysql.cursors.DictCursor)\n",
    "in_pre_funname = input(\"请输入需要迁移函数名：\")\n",
    "aa = cur_src_dic.execute('SELECT 1 FROM INFORMATION_SCHEMA.ROUTINES WHERE ROUTINE_SCHEMA=\\'{}\\' AND  ROUTINE_TYPE = \\'FUNCTION\\' AND ROUTINE_NAME = \\'{}\\' LIMIT 1;'.format('serviceordercenter',in_pre_funname))\n",
    "a = cur_src_dic.fetchone().get('ROUTINE_NAME')\n",
    "print (a)\n",
    "b = 0\n",
    "b = 1 if a == 1 else 2\n",
    "print (b)"
   ],
   "metadata": {
    "collapsed": false,
    "pycharm": {
     "name": "#%%\n"
    }
   }
  },
  {
   "cell_type": "code",
   "execution_count": 31,
   "outputs": [
    {
     "name": "stdout",
     "output_type": "stream",
     "text": [
      "False\n",
      "<class 'str'>\n",
      "2\n"
     ]
    }
   ],
   "source": [
    "a = input(\"请输入a值：\") or '1'\n",
    "print(isinstance(a,int))\n",
    "print(type(a))\n",
    "b = 0\n",
    "if a in ('1','2','3'):\n",
    "    b = 1\n",
    "else:\n",
    "    b = 2\n",
    "print (b)"
   ],
   "metadata": {
    "collapsed": false,
    "pycharm": {
     "name": "#%%\n"
    }
   }
  },
  {
   "cell_type": "code",
   "execution_count": null,
   "outputs": [],
   "source": [
    "import pymysql\n",
    "\n",
    "try:\n",
    "    tidb_conn = pymysql.connect(host='gateway01.us-east-1.prod.aws.tidbcloud.com', port=4000, user='s49scd8yqRkHgCX.root', password='535nVmA4KIVVMTAT', database='test', ssl={'ca': '/etc/ssl/cert.pem'} )\n",
    "except Exception as e:\n",
    "    print('tidb连接错误原因：',e)"
   ],
   "metadata": {
    "collapsed": false,
    "pycharm": {
     "name": "#%%\n"
    }
   }
  }
 ],
 "metadata": {
  "kernelspec": {
   "display_name": "Python 3",
   "language": "python",
   "name": "python3"
  },
  "language_info": {
   "codemirror_mode": {
    "name": "ipython",
    "version": 2
   },
   "file_extension": ".py",
   "mimetype": "text/x-python",
   "name": "python",
   "nbconvert_exporter": "python",
   "pygments_lexer": "ipython2",
   "version": "2.7.6"
  }
 },
 "nbformat": 4,
 "nbformat_minor": 0
}
